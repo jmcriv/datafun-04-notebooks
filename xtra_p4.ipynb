{
 "cells": [
  {
   "cell_type": "markdown",
   "id": "badc983a-e0fd-4f78-8750-958e95300268",
   "metadata": {},
   "source": [
    "## Jim Crivello - Bonus Section - 2/5/23"
   ]
  },
  {
   "cell_type": "markdown",
   "id": "530ee16f-82af-4ede-92da-70eea58cc91c",
   "metadata": {},
   "source": [
    "## 1. Create a DataFrame"
   ]
  },
  {
   "cell_type": "code",
   "execution_count": null,
   "id": "721eb77a-79bf-4c75-9c4f-c99b9e5453c9",
   "metadata": {},
   "outputs": [],
   "source": [
    "import pandas as pd"
   ]
  },
  {
   "cell_type": "code",
   "execution_count": null,
   "id": "4eb5dc41-7f51-4692-b692-2e9201bb488a",
   "metadata": {},
   "outputs": [],
   "source": [
    "contacts = [['Mike Green', 'demo1@deitel.com', '5555555555'], ['Sue Brown', 'demo2@deitel.com', '5555551234']]"
   ]
  },
  {
   "cell_type": "code",
   "execution_count": null,
   "id": "1beddb04-2e8a-4591-9983-aff71d388cb7",
   "metadata": {},
   "outputs": [],
   "source": [
    "contactsdf = pd.DataFrame(contacts, columns = ['Name', 'Email', 'Phone'])"
   ]
  },
  {
   "cell_type": "code",
   "execution_count": null,
   "id": "89092fdf-880e-484b-9ff5-c1e8decb001d",
   "metadata": {},
   "outputs": [],
   "source": [
    "contactsdf"
   ]
  },
  {
   "cell_type": "markdown",
   "id": "db8c9af2-5245-414b-9cd2-407ae36d63f0",
   "metadata": {},
   "source": [
    "## 2. Improve the DataFrame"
   ]
  },
  {
   "cell_type": "code",
   "execution_count": null,
   "id": "058f489e-f498-472f-92ce-573b28fa962c",
   "metadata": {},
   "outputs": [],
   "source": [
    "import re"
   ]
  },
  {
   "cell_type": "code",
   "execution_count": null,
   "id": "38d1e07c-648e-4f80-90e2-65ccc6d48c1e",
   "metadata": {},
   "outputs": [],
   "source": [
    "def get_formatted_phone(value):\n",
    "    result = re.fullmatch(r'(\\d{3})(\\d{3})(\\d{4})', value)\n",
    "    return '-'.join(result.groups()) if result else value"
   ]
  },
  {
   "cell_type": "code",
   "execution_count": null,
   "id": "dffb02b1-16c1-4594-b26f-6256a7536d16",
   "metadata": {},
   "outputs": [],
   "source": [
    "formatted_phone = contactsdf['Phone'].map(get_formatted_phone)"
   ]
  },
  {
   "cell_type": "code",
   "execution_count": null,
   "id": "b446ac6d-b3ff-412c-b4be-78ae280e86c6",
   "metadata": {},
   "outputs": [],
   "source": [
    "formatted_phone"
   ]
  },
  {
   "cell_type": "code",
   "execution_count": null,
   "id": "51749c4f-5db6-4209-aba9-4f228616a858",
   "metadata": {},
   "outputs": [],
   "source": [
    "contactsdf['Phone'] = formatted_phone"
   ]
  },
  {
   "cell_type": "code",
   "execution_count": null,
   "id": "66945ded-d2df-4710-8117-703d86ea3347",
   "metadata": {},
   "outputs": [],
   "source": [
    "contactsdf"
   ]
  }
 ],
 "metadata": {
  "kernelspec": {
   "display_name": "Python 3 (ipykernel)",
   "language": "python",
   "name": "python3"
  },
  "language_info": {
   "codemirror_mode": {
    "name": "ipython",
    "version": 3
   },
   "file_extension": ".py",
   "mimetype": "text/x-python",
   "name": "python",
   "nbconvert_exporter": "python",
   "pygments_lexer": "ipython3",
   "version": "3.9.16"
  }
 },
 "nbformat": 4,
 "nbformat_minor": 5
}
