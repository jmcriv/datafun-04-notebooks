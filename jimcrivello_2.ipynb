{
 "cells": [
  {
   "cell_type": "markdown",
   "id": "9613208b-6a3d-4582-8421-3b74dd3e8ade",
   "metadata": {},
   "source": [
    "# Jim Crivello's Module 4 Project - Part 2"
   ]
  },
  {
   "cell_type": "markdown",
   "id": "f20672e3-cefb-4e13-948b-260f00ce787c",
   "metadata": {},
   "source": [
    "## Task 1. Create DataFrame"
   ]
  },
  {
   "cell_type": "code",
   "execution_count": null,
   "id": "6713154b-7fc2-429e-acbb-c98e15312aa9",
   "metadata": {},
   "outputs": [],
   "source": [
    "import pandas as pd"
   ]
  },
  {
   "cell_type": "code",
   "execution_count": null,
   "id": "79f5e48a-b113-45b1-b80d-1fe752f6efe1",
   "metadata": {},
   "outputs": [],
   "source": [
    "grades_dict = {'Wally': [87, 96, 70], 'Eva': [100, 87, 90], 'Sam': [94, 77, 90], 'Katie': [100, 81, 82], 'Bob': [83, 65, 85]}"
   ]
  },
  {
   "cell_type": "code",
   "execution_count": null,
   "id": "099359a9-bf7d-459f-96a5-154327688f72",
   "metadata": {},
   "outputs": [],
   "source": [
    "grades = pd.DataFrame(grades_dict)"
   ]
  },
  {
   "cell_type": "code",
   "execution_count": null,
   "id": "33c232bb-86a0-4c8a-a324-d86e2105a6b3",
   "metadata": {},
   "outputs": [],
   "source": [
    "grades"
   ]
  },
  {
   "cell_type": "markdown",
   "id": "f0d9bd19-356c-4613-a7ac-1e32c7792663",
   "metadata": {},
   "source": [
    "## Task 2. Custom Index"
   ]
  },
  {
   "cell_type": "code",
   "execution_count": null,
   "id": "dfc02cc2-d74a-4028-bb5e-91fbb98a92c2",
   "metadata": {},
   "outputs": [],
   "source": [
    "pd.DataFrame(grades_dict, index=['Test1', 'Test2', 'Test3'])"
   ]
  },
  {
   "cell_type": "code",
   "execution_count": null,
   "id": "e5bd3814-edf3-4af8-91e0-fce08fe7812c",
   "metadata": {},
   "outputs": [],
   "source": [
    "grades.index = ['Test1', 'Test2', 'Test3']"
   ]
  },
  {
   "cell_type": "code",
   "execution_count": null,
   "id": "4d317587-95d0-4756-ab0d-03a11518f51a",
   "metadata": {},
   "outputs": [],
   "source": [
    "grades"
   ]
  },
  {
   "cell_type": "code",
   "execution_count": null,
   "id": "01afcb23-ac00-4a52-be89-498b9abf3b70",
   "metadata": {},
   "outputs": [],
   "source": [
    "grades['Eva']"
   ]
  },
  {
   "cell_type": "code",
   "execution_count": null,
   "id": "702e2b3b-befa-4220-a050-e12c4e8eaff5",
   "metadata": {},
   "outputs": [],
   "source": [
    "grades.Sam"
   ]
  },
  {
   "cell_type": "markdown",
   "id": "6b9af8e4-ffc3-4f19-b327-ea6756c75b8e",
   "metadata": {},
   "source": [
    "## Task 3. Assessing Rows (loc, iloc)"
   ]
  },
  {
   "cell_type": "code",
   "execution_count": null,
   "id": "15ba40d9-bc26-44f0-91d8-01f220484823",
   "metadata": {},
   "outputs": [],
   "source": [
    "grades.loc['Test1']"
   ]
  },
  {
   "cell_type": "code",
   "execution_count": null,
   "id": "bbb0ed95-b293-49de-9617-b524966b2ac3",
   "metadata": {},
   "outputs": [],
   "source": [
    "grades.iloc[1]"
   ]
  },
  {
   "cell_type": "code",
   "execution_count": null,
   "id": "3c3a563f-752c-42f1-bedd-36613cecd008",
   "metadata": {},
   "outputs": [],
   "source": [
    "grades.loc['Test1' : 'Test3']"
   ]
  },
  {
   "cell_type": "code",
   "execution_count": null,
   "id": "d8480d84-5f75-4f5b-98a1-c097be9803df",
   "metadata": {},
   "outputs": [],
   "source": [
    "grades.iloc[0:2]"
   ]
  },
  {
   "cell_type": "code",
   "execution_count": null,
   "id": "555bb342-685d-4e2a-a083-8499184c3a4c",
   "metadata": {},
   "outputs": [],
   "source": [
    "grades.loc[['Test1', 'Test3']]"
   ]
  },
  {
   "cell_type": "code",
   "execution_count": null,
   "id": "e2102a16-108a-435d-95a3-e044815f094c",
   "metadata": {},
   "outputs": [],
   "source": [
    "grades.iloc[[0,2]]"
   ]
  },
  {
   "cell_type": "code",
   "execution_count": null,
   "id": "07044224-daf7-4ac4-8d97-2d4bfd289900",
   "metadata": {},
   "outputs": [],
   "source": [
    "##   Answer to question -- My preference would be the grades.iloc[[0,2]] approach"
   ]
  },
  {
   "cell_type": "markdown",
   "id": "a49875f3-a922-4c36-a53b-f9d861cc2ddc",
   "metadata": {},
   "source": [
    "## Task 3. Accessing Subsets (at, iat)"
   ]
  },
  {
   "cell_type": "code",
   "execution_count": null,
   "id": "7e2825fb-0d70-4c00-8787-67e49b8338c0",
   "metadata": {},
   "outputs": [],
   "source": [
    "grades.loc['Test1':'Test2', ['Eva', 'Katie']]"
   ]
  },
  {
   "cell_type": "code",
   "execution_count": null,
   "id": "e77b1763-ca4e-4724-9eb9-6fc599d7784f",
   "metadata": {},
   "outputs": [],
   "source": [
    "grades.iloc[[0,2], 0:3]"
   ]
  },
  {
   "cell_type": "markdown",
   "id": "1c0754ec-fead-45e3-b589-5fe9c4c1706e",
   "metadata": {},
   "source": [
    "## Task 4. Describe (By Column)"
   ]
  },
  {
   "cell_type": "code",
   "execution_count": null,
   "id": "cbcc84be-8c75-4560-8f28-35ddbceb8cdc",
   "metadata": {},
   "outputs": [],
   "source": [
    "grades.describe()"
   ]
  },
  {
   "cell_type": "code",
   "execution_count": null,
   "id": "8f097af4-e96d-49e3-b99e-8f53eab0b021",
   "metadata": {},
   "outputs": [],
   "source": [
    "pd.set_option(\"display.precision\", 2)"
   ]
  },
  {
   "cell_type": "code",
   "execution_count": null,
   "id": "9c7952f1-4831-4188-b714-d3071a8f0718",
   "metadata": {},
   "outputs": [],
   "source": [
    "grades.describe()"
   ]
  },
  {
   "cell_type": "code",
   "execution_count": null,
   "id": "f50c09f0-dde8-45fc-9aac-b44f71f85603",
   "metadata": {},
   "outputs": [],
   "source": [
    "grades.mean()"
   ]
  },
  {
   "cell_type": "markdown",
   "id": "ca524c73-c90b-4cec-8a26-bfd80a9863b1",
   "metadata": {},
   "source": [
    "## Task 5. Transpose (rows <--> columns)"
   ]
  },
  {
   "cell_type": "code",
   "execution_count": null,
   "id": "86d4b6af-76bd-4842-9082-7b87f1e1d03f",
   "metadata": {},
   "outputs": [],
   "source": [
    "grades.T"
   ]
  },
  {
   "cell_type": "code",
   "execution_count": null,
   "id": "78ffbe40-369e-4e72-b50b-bf0ec3f3d211",
   "metadata": {},
   "outputs": [],
   "source": [
    "grades.T.describe()"
   ]
  },
  {
   "cell_type": "code",
   "execution_count": null,
   "id": "0b26379d-8b8b-4e16-83d1-7eb30a17c39a",
   "metadata": {},
   "outputs": [],
   "source": [
    "grades.T.mean()"
   ]
  },
  {
   "cell_type": "markdown",
   "id": "39ba72d2-f83d-48d2-8fd7-b19561b28c89",
   "metadata": {},
   "source": [
    "## Task 6. Sort"
   ]
  },
  {
   "cell_type": "code",
   "execution_count": null,
   "id": "024cdc79-2e0f-47ac-ace9-9ee96cd0d8c5",
   "metadata": {},
   "outputs": [],
   "source": [
    "grades.sort_index(ascending=False)"
   ]
  },
  {
   "cell_type": "code",
   "execution_count": null,
   "id": "183ec314-6834-47a9-88b6-35cddff9544e",
   "metadata": {},
   "outputs": [],
   "source": [
    "grades.sort_index(axis=1)"
   ]
  },
  {
   "cell_type": "code",
   "execution_count": null,
   "id": "7ef893df-1400-4e1e-8e87-93355b7cac80",
   "metadata": {},
   "outputs": [],
   "source": [
    "grades.sort_values(by='Test1', axis=1, ascending=False)"
   ]
  },
  {
   "cell_type": "code",
   "execution_count": null,
   "id": "f5f1341a-35aa-4a8d-9b75-12ec729a4154",
   "metadata": {},
   "outputs": [],
   "source": [
    "grades.loc['Test1'].sort_values(ascending=False)"
   ]
  },
  {
   "cell_type": "code",
   "execution_count": null,
   "id": "da0a6d53-7170-46ed-9153-5f35070f6452",
   "metadata": {},
   "outputs": [],
   "source": [
    "grades.sort_index(inplace=True)"
   ]
  },
  {
   "cell_type": "code",
   "execution_count": null,
   "id": "d668c5eb-518a-4a1f-a83a-e2047a6fd950",
   "metadata": {},
   "outputs": [],
   "source": [
    "grades"
   ]
  }
 ],
 "metadata": {
  "kernelspec": {
   "display_name": "Python 3 (ipykernel)",
   "language": "python",
   "name": "python3"
  },
  "language_info": {
   "codemirror_mode": {
    "name": "ipython",
    "version": 3
   },
   "file_extension": ".py",
   "mimetype": "text/x-python",
   "name": "python",
   "nbconvert_exporter": "python",
   "pygments_lexer": "ipython3",
   "version": "3.9.16"
  }
 },
 "nbformat": 4,
 "nbformat_minor": 5
}
